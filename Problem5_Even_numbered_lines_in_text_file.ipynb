{
 "cells": [
  {
   "cell_type": "markdown",
   "metadata": {},
   "source": [
    "# <font color = purple> Even-numbered lines in text file<font>"
   ]
  },
  {
   "cell_type": "markdown",
   "metadata": {},
   "source": [
    "This is the exemple in the site Rosalind, they gave us a text than we should split it and print just the even-numbers lines"
   ]
  },
  {
   "cell_type": "code",
   "execution_count": null,
   "metadata": {},
   "outputs": [],
   "source": [
    "# we can do it using a loop and we also can do it import sys and intertools"
   ]
  },
  {
   "cell_type": "code",
   "execution_count": 1,
   "metadata": {},
   "outputs": [],
   "source": [
    "Rosalindtext=open(\"textoRosalind.txt\",\"r\")\n"
   ]
  },
  {
   "cell_type": "code",
   "execution_count": 2,
   "metadata": {},
   "outputs": [
    {
     "name": "stdout",
     "output_type": "stream",
     "text": [
      "Bravely bold Sir Robin rode forth from Camelot\n",
      "Yes, brave Sir Robin turned about\n",
      "He was not afraid to die, O brave Sir Robin\n",
      "And gallantly he chickened out\n",
      "He was not at all afraid to be killed in nasty ways\n",
      "Bravely talking to his feet\n",
      "Brave, brave, brave, brave Sir Robin\n",
      "He beat a very brave retreat\n"
     ]
    }
   ],
   "source": [
    "print(Rosalindtext.read())"
   ]
  },
  {
   "cell_type": "code",
   "execution_count": 13,
   "metadata": {},
   "outputs": [
    {
     "name": "stdout",
     "output_type": "stream",
     "text": [
      "Yes, brave Sir Robin turned about\n",
      "\n",
      "And gallantly he chickened out\n",
      "\n",
      "Bravely talking to his feet\n",
      "\n",
      "He beat a very brave retreat\n"
     ]
    }
   ],
   "source": [
    "#We could do that with \"for\" and \"if\", but there is a problem with it, \n",
    "#when we print each line, we are doing it more than one time and in the end we have a space between each line.\n",
    "line=1\n",
    "text=open(\"textoRosalind.txt\")\n",
    "for eachline in text.readlines():\n",
    "    if line % 2 == 0:\n",
    "        print(eachline)\n",
    "    line +=1"
   ]
  },
  {
   "cell_type": "markdown",
   "metadata": {},
   "source": [
    "# <font color =red >The other way we can do it is importing itertools and sys, and finally slice it for pair lines <font>"
   ]
  },
  {
   "cell_type": "code",
   "execution_count": 23,
   "metadata": {},
   "outputs": [
    {
     "name": "stdout",
     "output_type": "stream",
     "text": [
      "Yes, brave Sir Robin turned about\n",
      "And gallantly he chickened out\n",
      "Bravely talking to his feet\n",
      "He beat a very brave retreat"
     ]
    }
   ],
   "source": [
    "import itertools\n",
    "import sys\n",
    "\n",
    "with open(\"textoRosalind.txt\") as text4:\n",
    "    sys.stdout.writelines(itertools.islice(text4, 1, None, 2))"
   ]
  },
  {
   "cell_type": "code",
   "execution_count": 24,
   "metadata": {},
   "outputs": [
    {
     "name": "stdout",
     "output_type": "stream",
     "text": [
      "Some things in life are bad, they can really make you mad\n",
      "Other things just make you swear and curse\n",
      "When you're chewing on life's gristle, don't grumble give a whistle\n",
      "This will help things turn out for the best\n",
      "Always look on the bright side of life\n",
      "Always look on the right side of life\n",
      "If life seems jolly rotten, there's something you've forgotten\n",
      "And that's to laugh and smile and dance and sing\n",
      "When you're feeling in the dumps, don't be silly, chumps\n",
      "Just purse your lips and whistle, that's the thing\n",
      "So, always look on the bright side of death\n",
      "Just before you draw your terminal breath\n",
      "Life's a counterfeit and when you look at it\n",
      "Life's a laugh and death's the joke, it's true\n",
      "You see, it's all a show, keep them laughing as you go\n",
      "Just remember the last laugh is on you\n",
      "Always look on the bright side of life\n",
      "And always look on the right side of life\n",
      "Always look on the bright side of life\n",
      "And always look on the right side of life\n"
     ]
    }
   ],
   "source": [
    "import itertools\n",
    "import sys\n",
    "\n",
    "with open(\"Rosalind_ini5.txt\") as t:\n",
    "    sys.stdout.writelines(itertools.islice(t, 1, None, 2))"
   ]
  },
  {
   "cell_type": "code",
   "execution_count": null,
   "metadata": {},
   "outputs": [],
   "source": []
  }
 ],
 "metadata": {
  "kernelspec": {
   "display_name": "Python 3",
   "language": "python",
   "name": "python3"
  },
  "language_info": {
   "codemirror_mode": {
    "name": "ipython",
    "version": 3
   },
   "file_extension": ".py",
   "mimetype": "text/x-python",
   "name": "python",
   "nbconvert_exporter": "python",
   "pygments_lexer": "ipython3",
   "version": "3.7.6"
  }
 },
 "nbformat": 4,
 "nbformat_minor": 4
}
