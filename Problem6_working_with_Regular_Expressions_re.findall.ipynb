{
 "cells": [
  {
   "cell_type": "code",
   "execution_count": 1,
   "metadata": {},
   "outputs": [],
   "source": [
    "#First, let's see what does we have here\n",
    "\n",
    "#We have a string and we need to find aut how much of each word is in this string.\n",
    "\n",
    "#so our string is in the \"text\" variable\n",
    "\n",
    "# For solve this we will use Regular Expressions We will use \n",
    "\n",
    "#in the varible \"words\" we will keep the resulta of the \"re.findall(\"[^\\W_]+\", text)\"\n",
    "#Let's see what this represent re.findall will put out all the instances as a list. This list must match with this parameters  \"[^\\W_]+\"\n",
    "# what that means? Ok come and see: inside the [] we'll put the parameters \n",
    "# ^ this inside the [] means NO\n",
    "#\\w as low case matches alpha numeric, characters and the underscore [a-zA-Z0-9_]\n",
    "# on the other side \\W upper case get everything that is not included in \\w it means that is not alpha numeric, \n",
    "# characters and underscore\n",
    "#So what I want to findall find for me? I want all(+) that is NOT[^] THIS \\W_ in other words re.findall(\"[^\\W_]+\", text"
   ]
  },
  {
   "cell_type": "code",
   "execution_count": 2,
   "metadata": {},
   "outputs": [],
   "source": [
    "import os\n",
    "import re"
   ]
  },
  {
   "cell_type": "code",
   "execution_count": 3,
   "metadata": {},
   "outputs": [],
   "source": [
    "Rosalind_text=\"When I find myself in times of trouble Mother Mary comes to me Speaking words of wisdom let it be And in my hour of darkness she is standing right in front of me Speaking words of wisdom let it be Let it be let it be let it be let it be Whisper words of wisdom let it be And when the broken hearted people living in the world agree There will be an answer let it be For though they may be parted there is still a chance that they will see There will be an answer let it be Let it be let it be let it be let it be There will be an answer let it be Let it be let it be let it be let it be Whisper words of wisdom let it be Let it be let it be let it be let it be Whisper words of wisdom let it be And when the night is cloudy there is still a light that shines on me Shine until tomorrow let it be I wake up to the sound of music Mother Mary comes to me Speaking words of wisdom let it be Let it be let it be let it be yeah let it be There will be an answer let it be Let it be let it be let it be yeah let it be Whisper words of wisdom let it be\""
   ]
  },
  {
   "cell_type": "code",
   "execution_count": 4,
   "metadata": {},
   "outputs": [],
   "source": [
    "word_from_Rosalind_text = {}\n",
    "\n",
    "# Make an array of all the words in the text\n",
    "words = re.findall(\"[^\\W_]+\", Rosalind_text)\n",
    "\n",
    "    # for each word count the number of appearances\n",
    "for word in words:\n",
    "   \n",
    "    if (word not in word_from_Rosalind_text.keys()):\n",
    "        word_from_Rosalind_text[word] = 1\n",
    "    else:\n",
    "        word_from_Rosalind_text[word] += 1"
   ]
  },
  {
   "cell_type": "code",
   "execution_count": 6,
   "metadata": {},
   "outputs": [
    {
     "data": {
      "text/plain": [
       "{'When': 1,\n",
       " 'I': 2,\n",
       " 'find': 1,\n",
       " 'myself': 1,\n",
       " 'in': 4,\n",
       " 'times': 1,\n",
       " 'of': 11,\n",
       " 'trouble': 1,\n",
       " 'Mother': 2,\n",
       " 'Mary': 2,\n",
       " 'comes': 2,\n",
       " 'to': 3,\n",
       " 'me': 4,\n",
       " 'Speaking': 3,\n",
       " 'words': 7,\n",
       " 'wisdom': 7,\n",
       " 'let': 30,\n",
       " 'it': 36,\n",
       " 'be': 41,\n",
       " 'And': 3,\n",
       " 'my': 1,\n",
       " 'hour': 1,\n",
       " 'darkness': 1,\n",
       " 'she': 1,\n",
       " 'is': 4,\n",
       " 'standing': 1,\n",
       " 'right': 1,\n",
       " 'front': 1,\n",
       " 'Let': 6,\n",
       " 'Whisper': 4,\n",
       " 'when': 2,\n",
       " 'the': 4,\n",
       " 'broken': 1,\n",
       " 'hearted': 1,\n",
       " 'people': 1,\n",
       " 'living': 1,\n",
       " 'world': 1,\n",
       " 'agree': 1,\n",
       " 'There': 4,\n",
       " 'will': 5,\n",
       " 'an': 4,\n",
       " 'answer': 4,\n",
       " 'For': 1,\n",
       " 'though': 1,\n",
       " 'they': 2,\n",
       " 'may': 1,\n",
       " 'parted': 1,\n",
       " 'there': 2,\n",
       " 'still': 2,\n",
       " 'a': 2,\n",
       " 'chance': 1,\n",
       " 'that': 2,\n",
       " 'see': 1,\n",
       " 'night': 1,\n",
       " 'cloudy': 1,\n",
       " 'light': 1,\n",
       " 'shines': 1,\n",
       " 'on': 1,\n",
       " 'Shine': 1,\n",
       " 'until': 1,\n",
       " 'tomorrow': 1,\n",
       " 'wake': 1,\n",
       " 'up': 1,\n",
       " 'sound': 1,\n",
       " 'music': 1,\n",
       " 'yeah': 2}"
      ]
     },
     "execution_count": 6,
     "metadata": {},
     "output_type": "execute_result"
    }
   ],
   "source": [
    "word_from_Rosalind_text"
   ]
  },
  {
   "cell_type": "code",
   "execution_count": 8,
   "metadata": {},
   "outputs": [
    {
     "name": "stdout",
     "output_type": "stream",
     "text": [
      "When 1\n",
      "I 2\n",
      "find 1\n",
      "myself 1\n",
      "in 4\n",
      "times 1\n",
      "of 11\n",
      "trouble 1\n",
      "Mother 2\n",
      "Mary 2\n",
      "comes 2\n",
      "to 3\n",
      "me 4\n",
      "Speaking 3\n",
      "words 7\n",
      "wisdom 7\n",
      "let 30\n",
      "it 36\n",
      "be 41\n",
      "And 3\n",
      "my 1\n",
      "hour 1\n",
      "darkness 1\n",
      "she 1\n",
      "is 4\n",
      "standing 1\n",
      "right 1\n",
      "front 1\n",
      "Let 6\n",
      "Whisper 4\n",
      "when 2\n",
      "the 4\n",
      "broken 1\n",
      "hearted 1\n",
      "people 1\n",
      "living 1\n",
      "world 1\n",
      "agree 1\n",
      "There 4\n",
      "will 5\n",
      "an 4\n",
      "answer 4\n",
      "For 1\n",
      "though 1\n",
      "they 2\n",
      "may 1\n",
      "parted 1\n",
      "there 2\n",
      "still 2\n",
      "a 2\n",
      "chance 1\n",
      "that 2\n",
      "see 1\n",
      "night 1\n",
      "cloudy 1\n",
      "light 1\n",
      "shines 1\n",
      "on 1\n",
      "Shine 1\n",
      "until 1\n",
      "tomorrow 1\n",
      "wake 1\n",
      "up 1\n",
      "sound 1\n",
      "music 1\n",
      "yeah 2\n"
     ]
    }
   ],
   "source": [
    "#so to take out the colon a print in this way:\n",
    "print('\\n'.join(\"{} {}\".format(k, v) for k, v in word_from_Rosalind_text.items()))"
   ]
  },
  {
   "cell_type": "code",
   "execution_count": null,
   "metadata": {},
   "outputs": [],
   "source": []
  }
 ],
 "metadata": {
  "kernelspec": {
   "display_name": "Python 3",
   "language": "python",
   "name": "python3"
  },
  "language_info": {
   "codemirror_mode": {
    "name": "ipython",
    "version": 3
   },
   "file_extension": ".py",
   "mimetype": "text/x-python",
   "name": "python",
   "nbconvert_exporter": "python",
   "pygments_lexer": "ipython3",
   "version": "3.7.6"
  }
 },
 "nbformat": 4,
 "nbformat_minor": 4
}
