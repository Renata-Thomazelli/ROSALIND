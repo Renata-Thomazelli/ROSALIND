{
 "cells": [
  {
   "cell_type": "markdown",
   "metadata": {},
   "source": [
    "# This problem was suggested by Rosalind site <font>"
   ]
  },
  {
   "cell_type": "markdown",
   "metadata": {},
   "source": [
    "# Problem 3\n",
    " Return: The slice of this string from indices a through b and c through d (with space in between), inclusively. In other words, we should include elements s[b] and s[d] in our slice.\n"
   ]
  },
  {
   "cell_type": "code",
   "execution_count": null,
   "metadata": {},
   "outputs": [],
   "source": [
    "#This is a good exercise to know how to split a string from a position until another one.\n",
    "#here we have a string 't' and we need to split it from position 17 through 25 (including this) and 98 through 102 (also including this last one)."
   ]
  },
  {
   "cell_type": "code",
   "execution_count": 1,
   "metadata": {},
   "outputs": [],
   "source": [
    "t =\"Sc89JbT6rcL33nncoMegophrys0vQPr92dZJFOuh7LcZsuIeF3tFPwNCCRncaMUa7QvuR8RtPYfp6Sxn9ajruOrgtW2cFIoqq6iberaBDMlqvlV4CxhA5I6jz0bprMkzxYV1HwkQNyQ2NyruTWnERUBACfaPSY6.\""
   ]
  },
  {
   "cell_type": "code",
   "execution_count": 2,
   "metadata": {},
   "outputs": [
    {
     "name": "stdout",
     "output_type": "stream",
     "text": [
      "Megophrys ibera\n"
     ]
    }
   ],
   "source": [
    "print (t[17:25+1],t[98:102+1])"
   ]
  },
  {
   "cell_type": "code",
   "execution_count": null,
   "metadata": {},
   "outputs": [],
   "source": []
  }
 ],
 "metadata": {
  "kernelspec": {
   "display_name": "Python 3",
   "language": "python",
   "name": "python3"
  },
  "language_info": {
   "codemirror_mode": {
    "name": "ipython",
    "version": 3
   },
   "file_extension": ".py",
   "mimetype": "text/x-python",
   "name": "python",
   "nbconvert_exporter": "python",
   "pygments_lexer": "ipython3",
   "version": "3.7.6"
  }
 },
 "nbformat": 4,
 "nbformat_minor": 4
}
